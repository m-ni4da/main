{
  "cells": [
    {
      "cell_type": "markdown",
      "metadata": {
        "id": "view-in-github",
        "colab_type": "text"
      },
      "source": [
        "<a href=\"https://colab.research.google.com/github/m-ni4da/main/blob/main/pyspark_%E5%95%8F%E9%A1%8C%E9%9B%86.ipynb\" target=\"_parent\"><img src=\"https://colab.research.google.com/assets/colab-badge.svg\" alt=\"Open In Colab\"/></a>"
      ]
    },
    {
      "cell_type": "code",
      "source": [
        "!pip install pyspark\n",
        "!pip install findspark\n",
        "!pip install pyarrow\n",
        "!pip install xlrd\n",
        "!pip install openpyxl\n",
        "!pip install chardet"
      ],
      "metadata": {
        "colab": {
          "base_uri": "https://localhost:8080/"
        },
        "id": "W-2DSNGV49iC",
        "outputId": "a062f2c7-4b43-45fb-e0b1-993790b7e4c5"
      },
      "execution_count": null,
      "outputs": [
        {
          "output_type": "stream",
          "name": "stdout",
          "text": [
            "Collecting pyspark\n",
            "  Downloading pyspark-3.5.0.tar.gz (316.9 MB)\n",
            "\u001b[2K     \u001b[90m━━━━━━━━━━━━━━━━━━━━━━━━━━━━━━━━━━━━━━━━\u001b[0m \u001b[32m316.9/316.9 MB\u001b[0m \u001b[31m4.1 MB/s\u001b[0m eta \u001b[36m0:00:00\u001b[0m\n",
            "\u001b[?25h  Preparing metadata (setup.py) ... \u001b[?25l\u001b[?25hdone\n",
            "Requirement already satisfied: py4j==0.10.9.7 in /usr/local/lib/python3.10/dist-packages (from pyspark) (0.10.9.7)\n",
            "Building wheels for collected packages: pyspark\n",
            "  Building wheel for pyspark (setup.py) ... \u001b[?25l\u001b[?25hdone\n",
            "  Created wheel for pyspark: filename=pyspark-3.5.0-py2.py3-none-any.whl size=317425345 sha256=108818081fd853f757e2a03bf43b0f889517f562565d84a277a9a8a2140c4484\n",
            "  Stored in directory: /root/.cache/pip/wheels/41/4e/10/c2cf2467f71c678cfc8a6b9ac9241e5e44a01940da8fbb17fc\n",
            "Successfully built pyspark\n",
            "Installing collected packages: pyspark\n",
            "Successfully installed pyspark-3.5.0\n",
            "Collecting findspark\n",
            "  Downloading findspark-2.0.1-py2.py3-none-any.whl (4.4 kB)\n",
            "Installing collected packages: findspark\n",
            "Successfully installed findspark-2.0.1\n",
            "Requirement already satisfied: pyarrow in /usr/local/lib/python3.10/dist-packages (10.0.1)\n",
            "Requirement already satisfied: numpy>=1.16.6 in /usr/local/lib/python3.10/dist-packages (from pyarrow) (1.25.2)\n",
            "Requirement already satisfied: xlrd in /usr/local/lib/python3.10/dist-packages (2.0.1)\n",
            "Requirement already satisfied: openpyxl in /usr/local/lib/python3.10/dist-packages (3.1.2)\n",
            "Requirement already satisfied: et-xmlfile in /usr/local/lib/python3.10/dist-packages (from openpyxl) (1.1.0)\n",
            "Requirement already satisfied: chardet in /usr/local/lib/python3.10/dist-packages (5.2.0)\n"
          ]
        }
      ]
    },
    {
      "cell_type": "code",
      "source": [
        "from pyspark.sql import SparkSession\n",
        "from pyspark.sql.types import StringType, StructType, StructField\n",
        "import pyspark.sql.functions as fn\n",
        "from pyspark.sql.functions import col, lit\n",
        "import pandas as pd"
      ],
      "metadata": {
        "id": "dGgbrIJk5HI6"
      },
      "execution_count": null,
      "outputs": []
    },
    {
      "cell_type": "code",
      "source": [
        "spark = SparkSession.builder.appName('pyspark').getOrCreate()"
      ],
      "metadata": {
        "id": "sdQucDKZEXez"
      },
      "execution_count": null,
      "outputs": []
    },
    {
      "cell_type": "code",
      "source": [
        "import chardet\n",
        "\n",
        "def detect_encoding(file_path):\n",
        "    with open(file_path, 'rb') as file:\n",
        "\n",
        "        result = chardet.detect(file.read(10000))\n",
        "        return result['encoding']\n",
        "\n",
        "file_name = 'order_history.csv'  # CSVファイル名(別の階層にある場合はパス)\n",
        "encoding = detect_encoding(file_name)\n",
        "print(f\"Detected encoding: {encoding}\")"
      ],
      "metadata": {
        "colab": {
          "base_uri": "https://localhost:8080/"
        },
        "id": "H0-UjsmD5Jjo",
        "outputId": "d958add0-2fef-46e3-9f90-3888b6c78a5e"
      },
      "execution_count": null,
      "outputs": [
        {
          "output_type": "stream",
          "name": "stdout",
          "text": [
            "Detected encoding: ascii\n"
          ]
        }
      ]
    },
    {
      "cell_type": "code",
      "source": [
        "member_sdf = spark.read.format(\"csv\").option(\"header\", \"true\").option(\"encoding\", \"ascii\").load(\"members.csv\")\n",
        "product_sdf = spark.read.format(\"csv\").option(\"header\", \"true\").option(\"encoding\", \"utf-8\").load(\"products.csv\")\n",
        "order_sdf = spark.read.format(\"csv\").option(\"header\", \"true\").option(\"encoding\", \"ascii\").load(\"order_history.csv\")"
      ],
      "metadata": {
        "id": "h274Y1eJ5NrV"
      },
      "execution_count": null,
      "outputs": []
    },
    {
      "cell_type": "code",
      "source": [
        "member_sdf.show()"
      ],
      "metadata": {
        "colab": {
          "base_uri": "https://localhost:8080/"
        },
        "id": "dH-JmtL-5Sk3",
        "outputId": "a5efdb59-e6d3-46f1-a4b0-ab47de4b348f"
      },
      "execution_count": null,
      "outputs": [
        {
          "output_type": "stream",
          "name": "stdout",
          "text": [
            "+----------+---+------+\n",
            "| member_id|age|gender|\n",
            "+----------+---+------+\n",
            "| cograph_1| 58|  Male|\n",
            "| cograph_2| 44|Female|\n",
            "| cograph_3| 50|Female|\n",
            "| cograph_4| 62|Female|\n",
            "| cograph_5| 59|  Male|\n",
            "| cograph_6| 30|  Male|\n",
            "| cograph_7| 50|Female|\n",
            "| cograph_8| 38|  Male|\n",
            "| cograph_9| 39|  Male|\n",
            "|cograph_10| 44|Female|\n",
            "|cograph_11| 41|  Male|\n",
            "|cograph_12| 55|  Male|\n",
            "|cograph_13| 48|  Male|\n",
            "|cograph_14| 41|  Male|\n",
            "|cograph_15| 44|Female|\n",
            "|cograph_16| 43|Female|\n",
            "|cograph_17| 55|Female|\n",
            "|cograph_18| 38|Female|\n",
            "|cograph_19| 43|Female|\n",
            "|cograph_20| 31|  Male|\n",
            "+----------+---+------+\n",
            "only showing top 20 rows\n",
            "\n"
          ]
        }
      ]
    },
    {
      "cell_type": "code",
      "source": [
        "member_sdf.select(\"member_id\").show()"
      ],
      "metadata": {
        "colab": {
          "base_uri": "https://localhost:8080/"
        },
        "id": "2WhGFPZq5Wxp",
        "outputId": "d9642329-a017-4c68-a89f-9e4ad161a4fe"
      },
      "execution_count": null,
      "outputs": [
        {
          "output_type": "stream",
          "name": "stdout",
          "text": [
            "+----------+\n",
            "| member_id|\n",
            "+----------+\n",
            "| cograph_1|\n",
            "| cograph_2|\n",
            "| cograph_3|\n",
            "| cograph_4|\n",
            "| cograph_5|\n",
            "| cograph_6|\n",
            "| cograph_7|\n",
            "| cograph_8|\n",
            "| cograph_9|\n",
            "|cograph_10|\n",
            "|cograph_11|\n",
            "|cograph_12|\n",
            "|cograph_13|\n",
            "|cograph_14|\n",
            "|cograph_15|\n",
            "|cograph_16|\n",
            "|cograph_17|\n",
            "|cograph_18|\n",
            "|cograph_19|\n",
            "|cograph_20|\n",
            "+----------+\n",
            "only showing top 20 rows\n",
            "\n"
          ]
        }
      ]
    },
    {
      "cell_type": "code",
      "source": [
        "member_sdf.select(\"gender\", \"member_id\").show(5)"
      ],
      "metadata": {
        "colab": {
          "base_uri": "https://localhost:8080/"
        },
        "id": "bMVEKFAt5Z2R",
        "outputId": "113dc0bc-cc2b-471f-e167-58c9d932d9b9"
      },
      "execution_count": null,
      "outputs": [
        {
          "output_type": "stream",
          "name": "stdout",
          "text": [
            "+------+---------+\n",
            "|gender|member_id|\n",
            "+------+---------+\n",
            "|  Male|cograph_1|\n",
            "|Female|cograph_2|\n",
            "|Female|cograph_3|\n",
            "|Female|cograph_4|\n",
            "|  Male|cograph_5|\n",
            "+------+---------+\n",
            "only showing top 5 rows\n",
            "\n"
          ]
        }
      ]
    },
    {
      "cell_type": "code",
      "source": [
        "product_sdf.filter(col(\"price\").cast(\"int\") >= 1000).show()"
      ],
      "metadata": {
        "colab": {
          "base_uri": "https://localhost:8080/"
        },
        "id": "q_rMXtPk5cq_",
        "outputId": "56d723a5-9d41-4382-e6dc-3ea021184375"
      },
      "execution_count": null,
      "outputs": [
        {
          "output_type": "stream",
          "name": "stdout",
          "text": [
            "+----------+------------------------+------+\n",
            "|product_id|            product_name| price|\n",
            "+----------+------------------------+------+\n",
            "|         1|      ハンバーグステーキ|2200.0|\n",
            "|         2|          シーザーサラダ|2100.0|\n",
            "|         3|        クラムチャウダー|1400.0|\n",
            "|         4|        マルゲリータピザ|1300.0|\n",
            "|         5|スパゲッティカルボナーラ|1300.0|\n",
            "|         6|          ローストチキン|1300.0|\n",
            "|         7|          ビーフシチュー|1500.0|\n",
            "|         8|              オムライス|2600.0|\n",
            "|         9|      シーフードパエリア|2000.0|\n",
            "|        10|            ラタトゥイユ|1900.0|\n",
            "+----------+------------------------+------+\n",
            "\n"
          ]
        }
      ]
    },
    {
      "cell_type": "code",
      "source": [
        "member_sdf.filter(\n",
        "    (col(\"age\").cast(\"int\") >= 20) & (col(\"gender\") == \"Female\")\n",
        ").show()"
      ],
      "metadata": {
        "colab": {
          "base_uri": "https://localhost:8080/"
        },
        "id": "6IpRVhzx5foe",
        "outputId": "a9c29bd7-578e-421b-8a57-6793570762ae"
      },
      "execution_count": null,
      "outputs": [
        {
          "output_type": "stream",
          "name": "stdout",
          "text": [
            "+----------+---+------+\n",
            "| member_id|age|gender|\n",
            "+----------+---+------+\n",
            "| cograph_2| 44|Female|\n",
            "| cograph_3| 50|Female|\n",
            "| cograph_4| 62|Female|\n",
            "| cograph_7| 50|Female|\n",
            "|cograph_10| 44|Female|\n",
            "|cograph_15| 44|Female|\n",
            "|cograph_16| 43|Female|\n",
            "|cograph_17| 55|Female|\n",
            "|cograph_18| 38|Female|\n",
            "|cograph_19| 43|Female|\n",
            "|cograph_22| 47|Female|\n",
            "|cograph_24| 33|Female|\n",
            "|cograph_25| 63|Female|\n",
            "|cograph_26| 25|Female|\n",
            "|cograph_27| 40|Female|\n",
            "|cograph_29| 55|Female|\n",
            "|cograph_30| 55|Female|\n",
            "|cograph_31| 42|Female|\n",
            "|cograph_33| 31|Female|\n",
            "|cograph_35| 37|Female|\n",
            "+----------+---+------+\n",
            "only showing top 20 rows\n",
            "\n"
          ]
        }
      ]
    },
    {
      "cell_type": "code",
      "source": [
        "product_sdf.filter(col(\"price\") <=800).agg(fn.avg(\"price\")).show()"
      ],
      "metadata": {
        "colab": {
          "base_uri": "https://localhost:8080/"
        },
        "id": "-icOQsEZ5hwW",
        "outputId": "9c17ad07-cf91-485e-a217-54aa7e1a86fd"
      },
      "execution_count": null,
      "outputs": [
        {
          "output_type": "stream",
          "name": "stdout",
          "text": [
            "+----------+\n",
            "|avg(price)|\n",
            "+----------+\n",
            "|     574.2|\n",
            "+----------+\n",
            "\n"
          ]
        }
      ]
    },
    {
      "cell_type": "code",
      "source": [
        "member_sdf.groupBy(\"gender\").agg(fn.count(\"member_id\")).show()"
      ],
      "metadata": {
        "colab": {
          "base_uri": "https://localhost:8080/"
        },
        "id": "nHOlVqyP5nP4",
        "outputId": "7e3a1402-e55f-4fd5-a96f-30511cc405db"
      },
      "execution_count": null,
      "outputs": [
        {
          "output_type": "stream",
          "name": "stdout",
          "text": [
            "+------+----------------+\n",
            "|gender|count(member_id)|\n",
            "+------+----------------+\n",
            "|Female|              80|\n",
            "|  Male|             120|\n",
            "+------+----------------+\n",
            "\n"
          ]
        }
      ]
    },
    {
      "cell_type": "code",
      "source": [
        "order_sdf.groupBy(\"product_id\").agg(\n",
        "    fn.sum(col(\"quantity\").cast(\"int\")).alias(\"cnt\"),\n",
        "    ).select(\"product_id\", \"cnt\").orderBy(col(\"product_id\").cast(\"int\")).show()"
      ],
      "metadata": {
        "colab": {
          "base_uri": "https://localhost:8080/"
        },
        "id": "wRE22UCxG1eG",
        "outputId": "3c229cc3-e615-44af-e4c2-95a3c3c5a3ca"
      },
      "execution_count": null,
      "outputs": [
        {
          "output_type": "stream",
          "name": "stdout",
          "text": [
            "+----------+----+\n",
            "|product_id| cnt|\n",
            "+----------+----+\n",
            "|         1| 345|\n",
            "|         2| 329|\n",
            "|         3| 334|\n",
            "|         4| 301|\n",
            "|         5| 309|\n",
            "|         6| 154|\n",
            "|         7| 149|\n",
            "|         8| 166|\n",
            "|         9| 182|\n",
            "|        10| 185|\n",
            "|        11| 552|\n",
            "|        12| 534|\n",
            "|        13| 586|\n",
            "|        14|1260|\n",
            "|        15| 505|\n",
            "+----------+----+\n",
            "\n"
          ]
        }
      ]
    },
    {
      "cell_type": "code",
      "source": [],
      "metadata": {
        "id": "0u4ubygqG2Oo"
      },
      "execution_count": null,
      "outputs": []
    }
  ],
  "metadata": {
    "colab": {
      "provenance": [],
      "include_colab_link": true
    },
    "kernelspec": {
      "display_name": "Python 3",
      "name": "python3"
    }
  },
  "nbformat": 4,
  "nbformat_minor": 0
}